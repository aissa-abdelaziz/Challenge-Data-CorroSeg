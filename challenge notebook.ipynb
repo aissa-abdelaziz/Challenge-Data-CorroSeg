{
  "cells": [
    {
      "cell_type": "markdown",
      "metadata": {
        "id": "oKCgu2rHwEc8"
      },
      "source": [
        "<center>\n",
        "  <h1><b>Corrosion detection in steel pipes </b></h1>\n",
        "  <br>\n",
        "  23 / 02 / 2024\n",
        "  <br>\n",
        "  <br>\n",
        "  <b>Student Name:</b> Abdelaziz Aissa & Tocquec Louis\n",
        "  <br>\n",
        "  <br>\n",
        "  </center>"
      ]
    },
    {
      "cell_type": "markdown",
      "metadata": {
        "id": "EUGZlBgnwX7R"
      },
      "source": [
        "* **The objective**:\n",
        "The objective of this challenge is to train a model that have the highest possible score for the segmentation of groove defects using the provided data"
      ]
    },
    {
      "cell_type": "markdown",
      "metadata": {
        "id": "3r-hNlo2CICN"
      },
      "source": [
        "# Install Packages"
      ]
    },
    {
      "cell_type": "code",
      "execution_count": null,
      "metadata": {
        "id": "mkTL_grICFx0"
      },
      "outputs": [],
      "source": [
        "#install packages\n",
        "!pip install imutils\n",
        "!pip install torchsummary"
      ]
    },
    {
      "cell_type": "code",
      "execution_count": 95,
      "metadata": {
        "id": "FeDqIfAVrjWJ"
      },
      "outputs": [],
      "source": [
        "import torch\n",
        "import torch.nn as nn\n",
        "from torch.utils.data import Dataset, DataLoader\n",
        "import numpy as np\n",
        "import imutils.paths as paths\n",
        "import glob\n",
        "import matplotlib.pyplot as plt\n",
        "import os\n",
        "from torchvision import transforms\n",
        "from PIL import Image\n",
        "from torch.optim import Adam\n",
        "from torchsummary import summary\n",
        "from tqdm import tqdm\n",
        "import random\n",
        "import shutil\n",
        "from google.colab import drive\n",
        "from scipy.ndimage import binary_fill_holes\n",
        "import pandas as pd\n",
        "from pathlib import Path"
      ]
    },
    {
      "cell_type": "code",
      "execution_count": null,
      "metadata": {
        "id": "NJlxC_a9kUfZ"
      },
      "outputs": [],
      "source": [
        "drive.mount('/content/drive')\n",
        "drive.mount('/content/drive')\n",
        "!unzip /content/drive/MyDrive/TP6_Geoscience/data.zip"
      ]
    },
    {
      "cell_type": "markdown",
      "metadata": {
        "id": "VELh-T75TUjS"
      },
      "source": [
        "# Preparing The Dataset"
      ]
    },
    {
      "cell_type": "code",
      "execution_count": 220,
      "metadata": {
        "colab": {
          "base_uri": "https://localhost:8080/"
        },
        "id": "nIUOm0WwRs_9",
        "outputId": "9c09994f-f2b5-45ef-dc81-dbe2590310c0"
      },
      "outputs": [
        {
          "name": "stdout",
          "output_type": "stream",
          "text": [
            "Data merging and splitting complete.\n"
          ]
        }
      ],
      "source": [
        "# Define paths\n",
        "train_images_dir = \"/content/Train/images\"\n",
        "train_masks_dir = \"/content/Train/labels\"\n",
        "val_images_dir = \"/content/Val/images\"\n",
        "val_masks_dir = \"/content/Val/labels\"\n",
        "\n",
        "train_data = [(os.path.join(train_images_dir, filename), os.path.join(train_masks_dir, filename)) for filename in os.listdir(train_images_dir)]\n",
        "val_data = [(os.path.join(val_images_dir, filename), os.path.join(val_masks_dir, filename)) for filename in os.listdir(val_images_dir)]\n",
        "merged_data = train_data + val_data\n",
        "\n",
        "# Shuffle the merged data\n",
        "random.shuffle(merged_data)\n",
        "\n",
        "# Define split ratio (e.g., 80% train, 20% validation)\n",
        "split_ratio = 0.90\n",
        "train_size = int(len(merged_data) * split_ratio)\n",
        "train_images, train_masks = zip(*merged_data[:train_size])\n",
        "val_images, val_masks = zip(*merged_data[train_size:])\n",
        "\n",
        "# Define new directories\n",
        "new_train_images_dir = \"/content/NewTrain2/images\"\n",
        "new_train_masks_dir = \"/content/NewTrain2/masks\"\n",
        "new_val_images_dir = \"/content/NewVal2/images\"\n",
        "new_val_masks_dir = \"/content/NewVal2/masks\"\n",
        "\n",
        "# Create new directories\n",
        "os.makedirs(new_train_images_dir, exist_ok=True)\n",
        "os.makedirs(new_train_masks_dir, exist_ok=True)\n",
        "os.makedirs(new_val_images_dir, exist_ok=True)\n",
        "os.makedirs(new_val_masks_dir, exist_ok=True)\n",
        "\n",
        "for src, dest in zip(train_images, [os.path.join(new_train_images_dir, os.path.basename(img)) for img in train_images]):\n",
        "    shutil.copy(src, dest)\n",
        "\n",
        "for src, dest in zip(train_masks, [os.path.join(new_train_masks_dir, os.path.basename(mask)) for mask in train_masks]):\n",
        "    shutil.copy(src, dest)\n",
        "\n",
        "for src, dest in zip(val_images, [os.path.join(new_val_images_dir, os.path.basename(img)) for img in val_images]):\n",
        "    shutil.copy(src, dest)\n",
        "\n",
        "for src, dest in zip(val_masks, [os.path.join(new_val_masks_dir, os.path.basename(mask)) for mask in val_masks]):\n",
        "    shutil.copy(src, dest)\n",
        "\n",
        "print(\"Data merging and splitting complete.\")\n"
      ]
    },
    {
      "cell_type": "markdown",
      "metadata": {
        "id": "2kZN3qYOx5jB"
      },
      "source": [
        "# Visualize some Images and the Masks from the Data"
      ]
    },
    {
      "cell_type": "code",
      "execution_count": 221,
      "metadata": {
        "colab": {
          "base_uri": "https://localhost:8080/",
          "height": 482
        },
        "id": "br5ra3lFrjWJ",
        "outputId": "f363e08b-087e-4a24-9c29-b5cd557a7ef1"
      },
      "outputs": [
        {
          "data": {
            "image/png": "[encoded data removed]",
            "text/plain": [
              "<Figure size 1200x600 with 2 Axes>"
            ]
          },
          "metadata": {},
          "output_type": "display_data"
        }
      ],
      "source": [
        "#Path\n",
        "image_path = \"/content/NewTrain/images/well_5_patch_50.npy\"\n",
        "mask_path = \"/content/NewTrain/masks/well_5_patch_50.npy\"\n",
        "# Load\n",
        "image = np.load(image_path)\n",
        "mask = np.load(mask_path)\n",
        "mask = binary_fill_holes(mask)\n",
        "# Plot\n",
        "fig, axes = plt.subplots(1, 2, figsize=(12, 6))\n",
        "\n",
        "axes[0].imshow(image)\n",
        "axes[0].set_title('Image')\n",
        "axes[0].axis('off')\n",
        "axes[1].imshow(mask)\n",
        "axes[1].set_title('Mask')\n",
        "axes[1].axis('off')\n",
        "plt.show()"
      ]
    },
    {
      "cell_type": "code",
      "execution_count": 97,
      "metadata": {
        "colab": {
          "base_uri": "https://localhost:8080/"
        },
        "id": "kki7UOS5yy5y",
        "outputId": "777ca9c2-67ea-4ee2-c548-bbcd5215a129"
      },
      "outputs": [
        {
          "name": "stdout",
          "output_type": "stream",
          "text": [
            "(36, 36)\n",
            "(36, 36)\n"
          ]
        }
      ],
      "source": [
        "#Print the size of the mask and the image\n",
        "print(image.shape)\n",
        "print(mask.shape)"
      ]
    },
    {
      "cell_type": "markdown",
      "metadata": {
        "id": "VeRiKn6Jv2bl"
      },
      "source": [
        "# Label Refinement"
      ]
    },
    {
      "cell_type": "markdown",
      "metadata": {
        "id": "inUjgko3v6Sb"
      },
      "source": [
        "# binary fill holes"
      ]
    },
    {
      "cell_type": "code",
      "execution_count": 98,
      "metadata": {
        "colab": {
          "base_uri": "https://localhost:8080/",
          "height": 411
        },
        "id": "13d-Ic6Lv5EH",
        "outputId": "f352b648-9206-41cf-916d-fe746f751695"
      },
      "outputs": [
        {
          "data": {
            "image/png": "[encoded data removed]",
            "text/plain": [
              "<Figure size 1000x500 with 2 Axes>"
            ]
          },
          "metadata": {},
          "output_type": "display_data"
        }
      ],
      "source": [
        "filled = binary_fill_holes(mask)\n",
        "fig, axes = plt.subplots(1, 2, figsize=(10, 5))\n",
        "\n",
        "axes[0].imshow(mask, cmap='gray')\n",
        "axes[0].set_title('Original Mask')\n",
        "axes[0].axis('off')\n",
        "\n",
        "# Plot filled mask\n",
        "axes[1].imshow(filled, cmap='gray')\n",
        "axes[1].set_title('Filled Mask')\n",
        "axes[1].axis('off')\n",
        "\n",
        "plt.show()"
      ]
    },
    {
      "cell_type": "markdown",
      "metadata": {
        "id": "hSsaYH1fhzj2"
      },
      "source": [
        "# Structuring Element & Morphological Operations"
      ]
    },
    {
      "cell_type": "code",
      "execution_count": 99,
      "metadata": {
        "colab": {
          "base_uri": "https://localhost:8080/",
          "height": 411
        },
        "id": "crw9nYqCh0c3",
        "outputId": "1e4bab94-fcc8-446a-b86c-8c5e47b22ad7"
      },
      "outputs": [
        {
          "data": {
            "image/png": "[encoded data removed]",
            "text/plain": [
              "<Figure size 1000x500 with 2 Axes>"
            ]
          },
          "metadata": {},
          "output_type": "display_data"
        }
      ],
      "source": [
        "kernel_size = (2, 2)\n",
        "kernel_shape = cv2.MORPH_RECT\n",
        "# Create the adaptive structuring element\n",
        "adaptive_kernel = cv2.getStructuringElement(kernel_shape, kernel_size)\n",
        "# Apply morphological operations : dilation\n",
        "result = cv2.dilate(mask, adaptive_kernel)\n",
        "fig, axes = plt.subplots(1, 2, figsize=(10, 5))\n",
        "axes[0].imshow(mask, cmap='gray')\n",
        "axes[0].set_title('Original Mask')\n",
        "axes[0].axis('off')\n",
        "# Plot filled mask\n",
        "axes[1].imshow(result, cmap='gray')\n",
        "axes[1].set_title('Dilat  Mask')\n",
        "axes[1].axis('off')\n",
        "plt.show()"
      ]
    },
    {
      "cell_type": "markdown",
      "metadata": {
        "id": "_9e1zRqThXw5"
      },
      "source": [
        "# Image Enhancement"
      ]
    },
    {
      "cell_type": "markdown",
      "metadata": {
        "id": "95D_MTKvcea_"
      },
      "source": [
        "CLAHE and bilateral filter"
      ]
    },
    {
      "cell_type": "code",
      "execution_count": 100,
      "metadata": {
        "colab": {
          "base_uri": "https://localhost:8080/",
          "height": 287
        },
        "id": "dMYdhCt2cej_",
        "outputId": "5eb2c602-9fae-4bdf-b277-7af9b3eed83b"
      },
      "outputs": [
        {
          "data": {
            "image/png": "[encoded data removed]",
            "text/plain": [
              "<Figure size 1000x500 with 3 Axes>"
            ]
          },
          "metadata": {},
          "output_type": "display_data"
        }
      ],
      "source": [
        "clahe = cv2.createCLAHE(clipLimit=2.0, tileGridSize=(8,8))\n",
        "image = np.uint8(image * 255)\n",
        "\n",
        "# Apply CLAHE to the grayscale image\n",
        "clahe_img = clahe.apply(image)\n",
        "#Apply bilateral filter\n",
        "bilateral_img = cv2.bilateralFilter(clahe_img, d=2, sigmaColor=4, sigmaSpace=4)\n",
        "fig, axes = plt.subplots(1, 3, figsize=(10, 5))\n",
        "# Plot Image\n",
        "image = np.uint8(image /255)\n",
        "\n",
        "axes[0].imshow(image)\n",
        "axes[0].set_title('Image')\n",
        "axes[0].axis('off')\n",
        "\n",
        "#  Plot CLAHE result\n",
        "axes[1].imshow(clahe_img)\n",
        "axes[1].set_title('CLAHE')\n",
        "axes[1].axis('off')\n",
        "\n",
        "# Plot Bilateral filter\n",
        "axes[2].imshow(clahe_img/255)\n",
        "axes[2].set_title('Bilateral filter ')\n",
        "axes[2].axis('off')\n",
        "plt.show()"
      ]
    },
    {
      "cell_type": "markdown",
      "metadata": {
        "id": "syyBMoEQgIfX"
      },
      "source": [
        "# Dataset Class"
      ]
    },
    {
      "cell_type": "code",
      "execution_count": 210,
      "metadata": {
        "id": "3WVhXhpRrjWK"
      },
      "outputs": [],
      "source": [
        "from scipy.ndimage import rotate\n",
        "\n",
        "class SegmentationDataset(Dataset):\n",
        "    def __init__(self, imagePaths, maskPaths, filelist, transform=True):\n",
        "        self.imagePaths = [os.path.join(imagePaths, file) for file in filelist]\n",
        "        self.maskPaths = [os.path.join(maskPaths, file) for file in filelist]\n",
        "        self.transform = transform\n",
        "        self.valid_indices = self._get_valid_indices()\n",
        "\n",
        "    def __len__(self):\n",
        "        return len(self.valid_indices)\n",
        "\n",
        "    def __getitem__(self, idx):\n",
        "        idx = self.valid_indices[idx]  # Get the valid index\n",
        "        imagePath = self.imagePaths[idx]\n",
        "        maskPath = self.maskPaths[idx]\n",
        "\n",
        "        # Read image from file\n",
        "        image = np.load(imagePath)\n",
        "        if image is None or np.isnan(image).any():\n",
        "            # Skip images with NaN values\n",
        "            return self.__getitem__((idx + 1) % len(self.valid_indices))\n",
        "\n",
        "        # Read mask from file\n",
        "        mask = np.load(maskPath)\n",
        "        if mask is None:\n",
        "            raise FileNotFoundError(f\"Mask file not found: {maskPath}\")\n",
        "\n",
        "        if self.transform:\n",
        "            image, mask = self.apply_numpy_transform(image, mask)\n",
        "\n",
        "        \"\"\"kernel_size = (2, 2)\n",
        "        kernel_shape = cv2.MORPH_RECT\n",
        "        adaptive_kernel = cv2.getStructuringElement(kernel_shape, kernel_size)\n",
        "        mask = cv2.dilate(mask, adaptive_kernel)\"\"\"\n",
        "        mask = binary_fill_holes(mask)\n",
        "\n",
        "        # Convert to PyTorch tensors\n",
        "        image = torch.from_numpy(np.array(image)).float()\n",
        "        mask = torch.from_numpy(np.array(mask)).long()\n",
        "\n",
        "        return image, mask, imagePath, maskPath\n",
        "\n",
        "    def _get_valid_indices(self):\n",
        "        valid_indices = []\n",
        "        for idx, imagePath in enumerate(self.imagePaths):\n",
        "            image = np.load(imagePath)\n",
        "            if image is not None and not np.isnan(image).any():\n",
        "                valid_indices.append(idx)\n",
        "        return valid_indices\n",
        "\n",
        "\n",
        "    def apply_numpy_transform(self, image, mask):\n",
        "        # Apply horizontal and vertical flips with 50% probability\n",
        "        if np.random.random() > 0.5:\n",
        "            image = np.fliplr(image)  # Horizontal flip\n",
        "            mask = np.fliplr(mask)\n",
        "        if np.random.random() > 0.5:\n",
        "            image = np.flipud(image)  # Vertical flip\n",
        "            mask = np.flipud(mask)\n",
        "        \"\"\"# Apply 90 and 135-degree rotations with 50% probability\n",
        "        if np.random.random() > 0.5:\n",
        "            rotation_angle = np.random.choice([0, 45, 90, 180,135])\n",
        "            if rotation_angle != 0:\n",
        "                image = rotate(image, angle=rotation_angle, reshape=False)\n",
        "                mask = rotate(mask, angle=rotation_angle, reshape=False)\"\"\"\n",
        "\n",
        "        return image, mask\n"
      ]
    },
    {
      "cell_type": "markdown",
      "metadata": {
        "id": "OnUlcI3XgKhf"
      },
      "source": [
        "# Models for Segmentation"
      ]
    },
    {
      "cell_type": "markdown",
      "metadata": {
        "id": "0pAW06SRzxj6"
      },
      "source": [
        "# UNET Model\n",
        "\n",
        "We have chosen a compact architecture for the UNET model 🏗️ consisting of:\n",
        "\n",
        "- 3 down-sampling blocks: (36 x 36), (18 x 18), and (9 x 9).\n",
        "- 3 up-sampling blocks: (9 x 9), (18 x 18), and (36 x 36).\n",
        "\n",
        "Here's an illustration of the UNET model:\n",
        "\n",
        "<img src=\"https://miro.medium.com/v2/resize:fit:1100/format:webp/1*VUS2cCaPB45wcHHFp_fQZQ.png\" alt=\"UNET Model\" width=\"500\" height=\"250\">\n",
        "\n"
      ]
    },
    {
      "cell_type": "code",
      "execution_count": 212,
      "metadata": {
        "id": "fnoDG8uNWvPM"
      },
      "outputs": [],
      "source": [
        "class UNet(nn.Module):\n",
        "    def __init__(self, dropout_prob=0.5):\n",
        "        super(UNet, self).__init__()\n",
        "\n",
        "        # Encoder\n",
        "        self.enc_conv1 = nn.Conv2d(1, 32, 3, padding=1)\n",
        "        self.enc_conv2 = nn.Conv2d(32, 64, 3, padding=1)\n",
        "        self.enc_conv3 = nn.Conv2d(64, 128, 3, padding=1)\n",
        "        self.enc_conv4 = nn.Conv2d(128, 128, 3, padding=1)\n",
        "        self.maxpool = nn.MaxPool2d(2, 2)\n",
        "\n",
        "        # Additional layers in encoder\n",
        "        self.enc_conv1_additional = nn.Conv2d(32, 32, 3, padding=1)\n",
        "        self.enc_conv2_additional = nn.Conv2d(64, 64, 3, padding=1)\n",
        "\n",
        "        # Dropout layers\n",
        "        self.dropout = nn.Dropout2d(p=dropout_prob)\n",
        "\n",
        "        # Decoder\n",
        "        self.upconv1 = nn.ConvTranspose2d(128, 64, 2, stride=2)\n",
        "        self.dec_conv1 = nn.Conv2d(128, 64, 3, padding=1)\n",
        "        self.upconv2 = nn.ConvTranspose2d(64, 32, 2, stride=2)\n",
        "        self.dec_conv2 = nn.Conv2d(64, 32, 3, padding=1)\n",
        "        self.final_conv = nn.Conv2d(32, 1, 1)\n",
        "\n",
        "    def forward(self, x):\n",
        "        # Encoder\n",
        "        x1 = torch.relu(self.enc_conv1(x))\n",
        "        x1 = torch.relu(self.enc_conv1_additional(x1))\n",
        "        x2 = self.maxpool(x1)\n",
        "        x2 = torch.relu(self.enc_conv2(x2))\n",
        "        x2 = torch.relu(self.enc_conv2_additional(x2))\n",
        "        #x2 = self.dropout(x2)\n",
        "        x3 = self.maxpool(x2)\n",
        "        x3 = torch.relu(self.enc_conv3(x3))\n",
        "        x3 = torch.relu(self.enc_conv4(x3))\n",
        "        #x3 = self.dropout(x3)\n",
        "\n",
        "        # Decoder\n",
        "        x = torch.relu(self.upconv1(x3))\n",
        "        x = torch.cat([x2, x], dim=1)\n",
        "        x = torch.relu(self.dec_conv1(x))\n",
        "        x = torch.relu(self.upconv2(x))\n",
        "        x = torch.cat([x1, x], dim=1)\n",
        "        x = torch.relu(self.dec_conv2(x))\n",
        "        x = torch.sigmoid(self.final_conv(x))\n",
        "        #(x.shape)\n",
        "        return x"
      ]
    },
    {
      "cell_type": "code",
      "execution_count": null,
      "metadata": {
        "id": "-bp9CCjsgfgf"
      },
      "outputs": [],
      "source": [
        "device = torch.device('cuda' if torch.cuda.is_available() else 'cpu')\n",
        "#Initialize the model\n",
        "model = UNet()\n",
        "model.to(device)\n",
        "summary(model, input_size=(1, 36, 36))"
      ]
    },
    {
      "cell_type": "code",
      "execution_count": null,
      "metadata": {
        "id": "zC-reNrFgaqd"
      },
      "outputs": [],
      "source": [
        "tensor = torch.rand(1,1, 36, 36).to(device)\n",
        "model(tensor)"
      ]
    },
    {
      "cell_type": "markdown",
      "metadata": {
        "id": "n2QiancrguFG"
      },
      "source": [
        "# Attention U-Net\n",
        "\n",
        "We have chosen to incorporate attention mechanisms into the U-Net to enhance focus on the critical regions of the input image.\n",
        "\n",
        "Here's an illustration of the Attention U-Net architecture:\n",
        "\n",
        "<img src=\"https://idiotdeveloper.com/wp-content/uploads/2021/06/attention_unet-compressed-2.jpg\" alt=\"Attention U-Net architecture\" width=\"500\" height=\"250\">\n",
        "\n"
      ]
    },
    {
      "cell_type": "code",
      "execution_count": 213,
      "metadata": {
        "id": "2jPZDjvH6TlX"
      },
      "outputs": [],
      "source": [
        "class AttentionBlock(nn.Module):\n",
        "    \"\"\"Attention block with learnable parameters\"\"\"\n",
        "\n",
        "    def __init__(self, F_g, F_l, n_coefficients):\n",
        "        \"\"\"\n",
        "        :param F_g: number of feature maps (channels) in previous layer\n",
        "        :param F_l: number of feature maps in corresponding encoder layer, transferred via skip connection\n",
        "        :param n_coefficients: number of learnable multi-dimensional attention coefficients\n",
        "        \"\"\"\n",
        "        super(AttentionBlock, self).__init__()\n",
        "\n",
        "        self.W_gate = nn.Sequential(\n",
        "            nn.Conv2d(F_g, n_coefficients, kernel_size=1, stride=1, padding=0, bias=True),\n",
        "            nn.BatchNorm2d(n_coefficients)\n",
        "        )\n",
        "\n",
        "        self.W_x = nn.Sequential(\n",
        "            nn.Conv2d(F_l, n_coefficients, kernel_size=1, stride=1, padding=0, bias=True),\n",
        "            nn.BatchNorm2d(n_coefficients)\n",
        "        )\n",
        "\n",
        "        self.psi = nn.Sequential(\n",
        "            nn.Conv2d(n_coefficients, 1, kernel_size=1, stride=1, padding=0, bias=True),\n",
        "            nn.BatchNorm2d(1),\n",
        "            nn.Sigmoid()\n",
        "        )\n",
        "\n",
        "        self.relu = nn.ReLU(inplace=True)\n",
        "\n",
        "    def forward(self, gate, skip_connection):\n",
        "        \"\"\"\n",
        "        :param gate: gating signal from previous layer\n",
        "        :param skip_connection: activation from corresponding encoder layer\n",
        "        :return: output activations\n",
        "        \"\"\"\n",
        "        g1 = self.W_gate(gate)\n",
        "        x1 = self.W_x(skip_connection)\n",
        "        result = torch.add(g1, x1)\n",
        "        psi = self.relu(result)\n",
        "        #print(g1.shape)\n",
        "        #print(x1.shape)\n",
        "        psi = self.psi(psi)\n",
        "        out = skip_connection * psi\n",
        "        return out"
      ]
    },
    {
      "cell_type": "code",
      "execution_count": 248,
      "metadata": {
        "id": "QQmMSz3lCVWG"
      },
      "outputs": [],
      "source": [
        "import torch\n",
        "import torch.nn as nn\n",
        "\n",
        "class AttUNet(nn.Module):\n",
        "    def __init__(self, dropout_prob=0.3):\n",
        "        super(AttUNet, self).__init__()\n",
        "\n",
        "        # Encoder\n",
        "        self.enc_conv1 = nn.Conv2d(1, 16, 3, padding=1)\n",
        "        self.enc_conv2 = nn.Conv2d(16, 32, 3, padding=1)\n",
        "        self.enc_conv3 = nn.Conv2d(32, 64, 3, padding=1)\n",
        "        self.enc_conv4 = nn.Conv2d(64, 64, 3, padding=1)\n",
        "        self.maxpool = nn.MaxPool2d(2, 2)\n",
        "\n",
        "\n",
        "\n",
        "        # Dropout layers\n",
        "        self.dropout = nn.Dropout2d(p=dropout_prob)\n",
        "\n",
        "        # Decoder\n",
        "        self.upconv1 = nn.ConvTranspose2d(64, 32, 2, stride=2)\n",
        "        self.Att1 = AttentionBlock(F_g=32, F_l=32, n_coefficients=32)\n",
        "        self.dec_conv1 = nn.Conv2d(64, 32, 3, padding=1)\n",
        "        self.upconv2 = nn.ConvTranspose2d(32, 16, 2, stride=2)\n",
        "        self.Att2 = AttentionBlock(F_g=16, F_l=16, n_coefficients=16)\n",
        "        self.dec_conv2 = nn.Conv2d(32, 16, 3, padding=1)\n",
        "        self.final_conv = nn.Conv2d(16, 1, 1)\n",
        "\n",
        "    def forward(self, x):\n",
        "        # Encoder\n",
        "        e1 = torch.relu(self.enc_conv1(x)) #32x36x36\n",
        "        e2 = self.maxpool(e1) #32x18x18\n",
        "        e2 = torch.relu(self.enc_conv2(e2)) #64x18x18\n",
        "        e2 = self.dropout(e2) #64x18x18\n",
        "        e3 = self.maxpool(e2) #64x9x9\n",
        "        e3 = torch.relu(self.enc_conv3(e3)) #128x9x9\n",
        "        elif3 = torch.relu(self.enc_conv4(e3)) #128x9x9\n",
        "        e3 = self.dropout(e3)\n",
        "\n",
        "        # Decoder\n",
        "        d2 = torch.relu(self.upconv1(e3)) #[2, 64, 18, 18]\n",
        "        s2 = self.Att1(gate=d2, skip_connection=e2)\n",
        "        d2 = torch.cat([s2, d2], dim=1)\n",
        "        d2 = torch.relu(self.dec_conv1(d2))\n",
        "        #print(d2.shape)\n",
        "        d1 = torch.relu(self.upconv2(d2))\n",
        "        #print(e1.shape)\n",
        "        #print(d1.shape)\n",
        "        s1 = self.Att2(gate=d1, skip_connection=e1)\n",
        "        d1 = torch.cat([s1, d1], dim=1)\n",
        "        #print(d1.shape)\n",
        "        d1 = torch.relu(self.dec_conv2(d1))\n",
        "        out = torch.sigmoid(self.final_conv(d1))\n",
        "        #(x.shape)\n",
        "\n",
        "        return out\n"
      ]
    },
    {
      "cell_type": "markdown",
      "metadata": {
        "id": "zRcDAYFghwc9"
      },
      "source": [
        "# ResUNet\n",
        "\n",
        "\n",
        "We have chosen to incorporate  residual connections within the architecture. These residual connections can help to alleviate the vanishing gradient problem and improve the overall performance of the network\n",
        "\n",
        "Here's an illustration of the ResUNet architecture:\n",
        "\n",
        "<img src=\"https://idiotdeveloper.com/wp-content/uploads/2022/01/MultiResUNET.png\" alt=\"ResUNet architecture\" width=\"500\" height=\"250\">\n"
      ]
    },
    {
      "cell_type": "code",
      "execution_count": 274,
      "metadata": {
        "id": "CxNYxo2Mav9-"
      },
      "outputs": [],
      "source": [
        "\n",
        "class batchnorm_relu(nn.Module):\n",
        "    def __init__(self, in_c):\n",
        "        super().__init__()\n",
        "\n",
        "        self.bn = nn.BatchNorm2d(in_c)\n",
        "        self.relu = nn.ReLU()\n",
        "\n",
        "    def forward(self, inputs):\n",
        "        x = self.bn(inputs)\n",
        "        x = self.relu(x)\n",
        "        return x\n",
        "\n",
        "class residual_block(nn.Module):\n",
        "    def __init__(self, in_c, out_c, stride=1):\n",
        "        super().__init__()\n",
        "\n",
        "        \"\"\" Convolutional layer \"\"\"\n",
        "        self.b1 = batchnorm_relu(in_c)\n",
        "        self.c1 = nn.Conv2d(in_c, out_c, kernel_size=3, padding=1, stride=stride)\n",
        "        self.b2 = batchnorm_relu(out_c)\n",
        "        self.c2 = nn.Conv2d(out_c, out_c, kernel_size=3, padding=1, stride=1)\n",
        "\n",
        "        \"\"\" Shortcut Connection (Identity Mapping) \"\"\"\n",
        "        self.s = nn.Conv2d(in_c, out_c, kernel_size=1, padding=0, stride=stride)\n",
        "\n",
        "    def forward(self, inputs):\n",
        "        x = self.b1(inputs)\n",
        "        x = self.c1(x)\n",
        "        x = self.b2(x)\n",
        "        x = self.c2(x)\n",
        "        s = self.s(inputs)\n",
        "\n",
        "        skip = x + s\n",
        "        return skip\n",
        "\n",
        "class decoder_block(nn.Module):\n",
        "    def __init__(self, in_c, out_c):\n",
        "        super().__init__()\n",
        "\n",
        "        self.upsample = nn.Upsample(scale_factor=2, mode=\"bilinear\", align_corners=False)\n",
        "        self.r = residual_block(in_c+out_c, out_c)\n",
        "\n",
        "    def forward(self, inputs, skip):\n",
        "        x = self.upsample(inputs)\n",
        "        #print(x.shape)\n",
        "        x = torch.cat([x, skip], axis=1)\n",
        "        x = self.r(x)\n",
        "        return x\n",
        "\n",
        "class build_resunet(nn.Module):\n",
        "    def __init__(self):\n",
        "        super().__init__()\n",
        "\n",
        "        \"\"\" Encoder 1 \"\"\"\n",
        "        self.c11 = nn.Conv2d(1, 64, kernel_size=3, padding=1)\n",
        "        self.br1 = batchnorm_relu(64)\n",
        "        self.c12 = nn.Conv2d(64, 64, kernel_size=3, padding=1)\n",
        "        self.c13 = nn.Conv2d(1, 64, kernel_size=1, padding=0)\n",
        "\n",
        "        \"\"\" Encoder 2 and 3 \"\"\"\n",
        "        self.r2 = residual_block(64, 128, stride=2)\n",
        "        #self.r3 = residual_block(128, 256, stride=2)\n",
        "\n",
        "        \"\"\" Bridge \"\"\"\n",
        "        self.r4 = residual_block(128, 256, stride=2)\n",
        "\n",
        "        \"\"\" Decoder \"\"\"\n",
        "        #self.d1 = decoder_block(512, 256)\n",
        "        self.d2 = decoder_block(256, 128)\n",
        "        self.d3 = decoder_block(128, 64)\n",
        "\n",
        "        \"\"\" Output \"\"\"\n",
        "        self.output = nn.Conv2d(64, 1, kernel_size=1, padding=0)\n",
        "        self.sigmoid = nn.Sigmoid()\n",
        "\n",
        "    def forward(self, inputs):\n",
        "        \"\"\" Encoder 1 \"\"\"\n",
        "        x = self.c11(inputs)\n",
        "        x = self.br1(x)\n",
        "        x = self.c12(x)\n",
        "        s = self.c13(inputs)\n",
        "        skip1 = x + s\n",
        "\n",
        "        \"\"\" Encoder 2 and 3 \"\"\"\n",
        "        skip2 = self.r2(skip1)\n",
        "        #skip3 = self.r3(skip2)\n",
        "\n",
        "        \"\"\" Bridge \"\"\"\n",
        "        b = self.r4(skip2)\n",
        "\n",
        "        \"\"\" Decoder \"\"\"\n",
        "        #d1 = self.d1(b, skip3)\n",
        "        d2 = self.d2(b, skip2)\n",
        "        d3 = self.d3(d2, skip1)\n",
        "\n",
        "        \"\"\" output \"\"\"\n",
        "        output = self.output(d3)\n",
        "        output = self.sigmoid(output)\n",
        "\n",
        "        return output\n",
        "\n",
        "\n"
      ]
    },
    {
      "cell_type": "markdown",
      "metadata": {
        "id": "16MGf14Dih04"
      },
      "source": [
        "# Various Losses for Training"
      ]
    },
    {
      "cell_type": "markdown",
      "metadata": {
        "id": "b3qaOra2ilt3"
      },
      "source": [
        "Dice Loss + BCE  "
      ]
    },
    {
      "cell_type": "code",
      "execution_count": 275,
      "metadata": {
        "id": "vOJdr61OiohX"
      },
      "outputs": [],
      "source": [
        "class BinaryDiceLoss(nn.Module):\n",
        "    \"\"\"Dice loss of binary class\n",
        "    Args:\n",
        "        smooth: A float number to smooth loss, and avoid NaN error, default: 1\n",
        "        p: Denominator value: \\sum{x^p} + \\sum{y^p}, default: 2\n",
        "        predict: A tensor of shape [N, *]\n",
        "        target: A tensor of shape same with predict\n",
        "        reduction: Reduction method to apply, return mean over batch if 'mean',\n",
        "            return sum if 'sum', return a tensor of shape [N,] if 'none'\n",
        "    Returns:\n",
        "        Loss tensor according to arg reduction\n",
        "    Raise:\n",
        "        Exception if unexpected reduction\n",
        "    \"\"\"\n",
        "    def __init__(self, smooth=1, p=2, reduction='mean'):\n",
        "        super(BinaryDiceLoss, self).__init__()\n",
        "        self.smooth = smooth\n",
        "        self.p = p\n",
        "        self.reduction = reduction\n",
        "        self.bce=nn.BCELoss()\n",
        "\n",
        "    def forward(self, predict, target):\n",
        "        assert predict.shape[0] == target.shape[0], \"predict & target batch size don't match\"\n",
        "        predict = predict.contiguous().view(predict.shape[0], -1)\n",
        "        target = target.contiguous().view(target.shape[0], -1)\n",
        "\n",
        "        num = torch.sum(torch.mul(predict, target), dim=1) + self.smooth\n",
        "        den = torch.sum(predict.pow(self.p) + target.pow(self.p), dim=1) + self.smooth\n",
        "        bce_loss = self.bce(predict, target)\n",
        "        loss = (1 - num / den)+bce_loss\n",
        "\n",
        "        if self.reduction == 'mean':\n",
        "            return loss.mean()\n",
        "        elif self.reduction == 'sum':\n",
        "            return loss.sum()\n",
        "        elif self.reduction == 'none':\n",
        "            return loss\n",
        "        else:\n",
        "            raise Exception('Unexpected reduction {}'.format(self.reduction))"
      ]
    },
    {
      "cell_type": "markdown",
      "metadata": {
        "id": "4NT9gRyYi8fW"
      },
      "source": [
        "Focal Loss"
      ]
    },
    {
      "cell_type": "code",
      "execution_count": 276,
      "metadata": {
        "id": "wIzO136PilCa"
      },
      "outputs": [],
      "source": [
        "class FocalLoss(nn.modules.loss._WeightedLoss):\n",
        "\n",
        "    def __init__(self, gamma=0, size_average=None, ignore_index=-100,\n",
        "                 reduce=None, balance_param=1.0):\n",
        "        super(FocalLoss, self).__init__(size_average)\n",
        "        self.gamma = gamma\n",
        "        self.size_average = size_average\n",
        "        self.ignore_index = ignore_index\n",
        "        self.balance_param = balance_param\n",
        "        self.bce=nn.BCELoss()\n",
        "\n",
        "    def forward(self, input, target):\n",
        "        # inputs and targets are assumed to be BatchxClasses\n",
        "        assert len(input.shape) == len(target.shape)\n",
        "        assert input.size(0) == target.size(0)\n",
        "        assert input.size(1) == target.size(1)\n",
        "        # compute the negative likelyhood\n",
        "        bce_loss = self.bce(input.view(-1), target.float().view(-1))\n",
        "        logpt = - bce_loss\n",
        "        pt = torch.exp(logpt)\n",
        "        # compute the loss\n",
        "        focal_loss = -( (1-pt)**self.gamma ) * logpt\n",
        "        balanced_focal_loss = self.balance_param * focal_loss\n",
        "        loss=balanced_focal_loss+bce_loss\n",
        "        return loss"
      ]
    },
    {
      "cell_type": "markdown",
      "metadata": {
        "id": "MOlc3484icoY"
      },
      "source": [
        "## Start Training"
      ]
    },
    {
      "cell_type": "code",
      "execution_count": 277,
      "metadata": {
        "id": "wnLq1JQVrjWM"
      },
      "outputs": [],
      "source": [
        "#batch size for data loaders\n",
        "batch_size = 16\n",
        "# Train Set\n",
        "IMAGE_DATASET_PATH = \"/content/NewTrain2/images/\"\n",
        "IMAGE_Label_PATH = \"/content/NewTrain2/masks\"\n",
        "imagePaths_full = sorted(glob.glob(IMAGE_DATASET_PATH + \"*.npy\"))\n",
        "imagePaths = [os.path.basename(path) for path in imagePaths_full]\n",
        "train_dataset = SegmentationDataset(IMAGE_DATASET_PATH, IMAGE_Label_PATH, imagePaths)\n",
        "# Validation Set\n",
        "IMAGE_DATASET_PATH_VAL = \"/content/NewVal2/images/\"\n",
        "IMAGE_Label_PATH_VAL = \"/content/NewVal2/masks/\"\n",
        "val_imagePaths_full = sorted(glob.glob(IMAGE_DATASET_PATH_VAL + \"*.npy\"))\n",
        "val_imagePaths = [os.path.basename(path) for path in val_imagePaths_full]\n",
        "val_dataset = SegmentationDataset(IMAGE_DATASET_PATH_VAL, IMAGE_Label_PATH_VAL, val_imagePaths)\n",
        "\n",
        "#Define data loaders\n",
        "val_loader = DataLoader(val_dataset, batch_size=batch_size, shuffle=False)\n",
        "train_loader = DataLoader(train_dataset, batch_size=batch_size, shuffle=True)\n"
      ]
    },
    {
      "cell_type": "markdown",
      "metadata": {
        "id": "ua0MQ64xnkzg"
      },
      "source": [
        "Displaying Images and Mask from train set :"
      ]
    },
    {
      "cell_type": "code",
      "execution_count": 278,
      "metadata": {
        "colab": {
          "base_uri": "https://localhost:8080/",
          "height": 497
        },
        "id": "lZfvgoINofsB",
        "outputId": "e1997c15-5789-45c9-96ec-d5580c23c7cc"
      },
      "outputs": [
        {
          "data": {
            "image/png": "[encoded data removed]",
            "text/plain": [
              "<Figure size 1500x600 with 8 Axes>"
            ]
          },
          "metadata": {},
          "output_type": "display_data"
        }
      ],
      "source": [
        "for images, masks,image_path,mask_path in train_loader:\n",
        "    num_images_to_plot = min(4, len(images))\n",
        "\n",
        "    fig, axes = plt.subplots(2, num_images_to_plot, figsize=(15, 6))\n",
        "\n",
        "    for i in range(num_images_to_plot):\n",
        "        axes[0, i].imshow(images[i])\n",
        "        #axes[0, i].set_title(image_path[i])\n",
        "        #print(image_path[i])\n",
        "        #print(mask_path[i])\n",
        "        axes[0, i].axis('off')\n",
        "\n",
        "        axes[1, i].imshow(masks[i], cmap='gray')\n",
        "        axes[1, i].set_title('Mask')\n",
        "        axes[1, i].axis('off')\n",
        "\n",
        "    plt.tight_layout()\n",
        "    plt.show()\n",
        "    break"
      ]
    },
    {
      "cell_type": "markdown",
      "metadata": {
        "id": "iOPFPcBQ8tMf"
      },
      "source": [
        "# Evalution Score"
      ]
    },
    {
      "cell_type": "markdown",
      "metadata": {
        "id": "N1H03DDk133G"
      },
      "source": [
        "Dice Score"
      ]
    },
    {
      "cell_type": "code",
      "execution_count": 280,
      "metadata": {
        "id": "Ooq9ASbWe78Z"
      },
      "outputs": [],
      "source": [
        "def dice_coeff(prediction, target):\n",
        "\n",
        "    mask = np.zeros_like(prediction)\n",
        "    mask[prediction >= 0.5] = 1\n",
        "\n",
        "    inter = np.sum(mask * target)\n",
        "    union = np.sum(mask) + np.sum(target)\n",
        "    epsilon=1e-6\n",
        "    result = np.mean(2 * inter / (union + epsilon))\n",
        "    return result"
      ]
    },
    {
      "cell_type": "markdown",
      "metadata": {
        "id": "kimUl14w2IEE"
      },
      "source": [
        "Validation function"
      ]
    },
    {
      "cell_type": "code",
      "execution_count": 281,
      "metadata": {
        "id": "WAznNSkzrjWO"
      },
      "outputs": [],
      "source": [
        "#Validation function\n",
        "def validation(model, val_loader, criterion, device):\n",
        "    model.eval()\n",
        "    total_val_loss = 0\n",
        "    total_val_dice_coef = 0\n",
        "    sample = 0\n",
        "    nb_batch = 0\n",
        "    with torch.no_grad():\n",
        "        with tqdm(val_loader, desc='Validation', unit='batch') as tqdm_loader:\n",
        "            for images, masks,_ ,_ in tqdm_loader:\n",
        "                images = images.to(device)\n",
        "                masks = masks.to(device)\n",
        "                masks = masks.float()\n",
        "                images = images.unsqueeze(1)\n",
        "                masks = masks.unsqueeze(1)\n",
        "                pred = model(images)\n",
        "                val_loss = criterion(pred, masks)\n",
        "                y_pred = pred.data.cpu().numpy().ravel()\n",
        "                y_true = masks.data.cpu().numpy().ravel()\n",
        "                val_dice_coef = dice_coeff(y_pred, y_true)\n",
        "                total_val_loss += val_loss.item()\n",
        "                total_val_dice_coef += val_dice_coef.item()\n",
        "                sample += len(images)\n",
        "                nb_batch += 1\n",
        "                tqdm_loader.set_postfix(loss=val_loss.item(), DiceCoef=val_dice_coef.item())\n",
        "    overall_val_loss = total_val_loss / nb_batch\n",
        "    overall_val_dice_coef = total_val_dice_coef / nb_batch\n",
        "    print(f\"Validation Loss: {overall_val_loss}\")\n",
        "    print(f\"Validation Dice Score Coef: {overall_val_dice_coef}\")\n",
        "    return overall_val_loss,overall_val_dice_coef"
      ]
    },
    {
      "cell_type": "markdown",
      "metadata": {
        "id": "_FiDl_mI9DFC"
      },
      "source": [
        "# Training"
      ]
    },
    {
      "cell_type": "code",
      "execution_count": 286,
      "metadata": {
        "colab": {
          "base_uri": "https://localhost:8080/"
        },
        "id": "VPo9FLfirjWO",
        "outputId": "daa8c77f-747a-45f1-abd1-1d2012bd8810"
      },
      "outputs": [
        {
          "name": "stderr",
          "output_type": "stream",
          "text": [
            "Epoch 1/25: 100%|██████████| 544/544 [00:10<00:00, 52.01batch/s, DiceCoef=0.727, loss=0.129]\n"
          ]
        },
        {
          "name": "stdout",
          "output_type": "stream",
          "text": [
            "Epoch [1/25], Total Train Loss: 113.59307684749365\n",
            "Epoch [1/25], Dice Score for Training : 0.16205019994640574\n"
          ]
        },
        {
          "name": "stderr",
          "output_type": "stream",
          "text": [
            "Validation: 100%|██████████| 61/61 [00:00<00:00, 73.45batch/s, DiceCoef=0, loss=0.0395]\n"
          ]
        },
        {
          "name": "stdout",
          "output_type": "stream",
          "text": [
            "Validation Loss: 0.1385884556125422\n",
            "Validation Dice Score Coef: 0.4764264477515143\n"
          ]
        },
        {
          "name": "stderr",
          "output_type": "stream",
          "text": [
            "Epoch 2/25: 100%|██████████| 544/544 [00:11<00:00, 49.13batch/s, DiceCoef=0.702, loss=0.136]\n"
          ]
        },
        {
          "name": "stdout",
          "output_type": "stream",
          "text": [
            "Epoch [2/25], Total Train Loss: 73.46460085362196\n",
            "Epoch [2/25], Dice Score for Training : 0.599946195995753\n"
          ]
        },
        {
          "name": "stderr",
          "output_type": "stream",
          "text": [
            "Validation: 100%|██████████| 61/61 [00:01<00:00, 53.64batch/s, DiceCoef=0, loss=0.0384]\n"
          ]
        },
        {
          "name": "stdout",
          "output_type": "stream",
          "text": [
            "Validation Loss: 0.12549071508597154\n",
            "Validation Dice Score Coef: 0.5608605603526416\n"
          ]
        },
        {
          "name": "stderr",
          "output_type": "stream",
          "text": [
            "Epoch 3/25: 100%|██████████| 544/544 [00:10<00:00, 51.05batch/s, DiceCoef=0.683, loss=0.0986]\n"
          ]
        },
        {
          "name": "stdout",
          "output_type": "stream",
          "text": [
            "Epoch [3/25], Total Train Loss: 67.73399613052607\n",
            "Epoch [3/25], Dice Score for Training : 0.6553588585847459\n"
          ]
        },
        {
          "name": "stderr",
          "output_type": "stream",
          "text": [
            "Validation: 100%|██████████| 61/61 [00:00<00:00, 73.73batch/s, DiceCoef=0, loss=0.0424]\n"
          ]
        },
        {
          "name": "stdout",
          "output_type": "stream",
          "text": [
            "Validation Loss: 0.11784038863709716\n",
            "Validation Dice Score Coef: 0.6365327041072537\n"
          ]
        },
        {
          "name": "stderr",
          "output_type": "stream",
          "text": [
            "Epoch 4/25: 100%|██████████| 544/544 [00:10<00:00, 53.38batch/s, DiceCoef=0.798, loss=0.063]\n"
          ]
        },
        {
          "name": "stdout",
          "output_type": "stream",
          "text": [
            "Epoch [4/25], Total Train Loss: 62.97927204892039\n",
            "Epoch [4/25], Dice Score for Training : 0.6836593031675653\n"
          ]
        },
        {
          "name": "stderr",
          "output_type": "stream",
          "text": [
            "Validation: 100%|██████████| 61/61 [00:01<00:00, 53.15batch/s, DiceCoef=0, loss=0.0162]\n"
          ]
        },
        {
          "name": "stdout",
          "output_type": "stream",
          "text": [
            "Validation Loss: 0.1134059234965043\n",
            "Validation Dice Score Coef: 0.5860071534192287\n"
          ]
        },
        {
          "name": "stderr",
          "output_type": "stream",
          "text": [
            "Epoch 5/25: 100%|██████████| 544/544 [00:10<00:00, 53.60batch/s, DiceCoef=0.759, loss=0.073]\n"
          ]
        },
        {
          "name": "stdout",
          "output_type": "stream",
          "text": [
            "Epoch [5/25], Total Train Loss: 56.34893110021949\n",
            "Epoch [5/25], Dice Score for Training : 0.6982462388090899\n"
          ]
        },
        {
          "name": "stderr",
          "output_type": "stream",
          "text": [
            "Validation: 100%|██████████| 61/61 [00:01<00:00, 59.72batch/s, DiceCoef=0, loss=0.0309]\n"
          ]
        },
        {
          "name": "stdout",
          "output_type": "stream",
          "text": [
            "Validation Loss: 0.10148635066923548\n",
            "Validation Dice Score Coef: 0.6355680318548921\n"
          ]
        },
        {
          "name": "stderr",
          "output_type": "stream",
          "text": [
            "Epoch 6/25: 100%|██████████| 544/544 [00:10<00:00, 52.08batch/s, DiceCoef=0.816, loss=0.0823]\n"
          ]
        },
        {
          "name": "stdout",
          "output_type": "stream",
          "text": [
            "Epoch [6/25], Total Train Loss: 54.32325966283679\n",
            "Epoch [6/25], Dice Score for Training : 0.709633218659962\n"
          ]
        },
        {
          "name": "stderr",
          "output_type": "stream",
          "text": [
            "Validation: 100%|██████████| 61/61 [00:00<00:00, 73.68batch/s, DiceCoef=0, loss=0.0165]\n"
          ]
        },
        {
          "name": "stdout",
          "output_type": "stream",
          "text": [
            "Validation Loss: 0.09933870047575137\n",
            "Validation Dice Score Coef: 0.642984989229772\n"
          ]
        },
        {
          "name": "stderr",
          "output_type": "stream",
          "text": [
            "Epoch 7/25: 100%|██████████| 544/544 [00:10<00:00, 51.63batch/s, DiceCoef=0.727, loss=0.0836]\n"
          ]
        },
        {
          "name": "stdout",
          "output_type": "stream",
          "text": [
            "Epoch [7/25], Total Train Loss: 52.2582838088274\n",
            "Epoch [7/25], Dice Score for Training : 0.7217443882067888\n"
          ]
        },
        {
          "name": "stderr",
          "output_type": "stream",
          "text": [
            "Validation: 100%|██████████| 61/61 [00:00<00:00, 72.94batch/s, DiceCoef=0, loss=0.055]\n"
          ]
        },
        {
          "name": "stdout",
          "output_type": "stream",
          "text": [
            "Validation Loss: 0.09525535060245482\n",
            "Validation Dice Score Coef: 0.6793363894539728\n"
          ]
        },
        {
          "name": "stderr",
          "output_type": "stream",
          "text": [
            "Epoch 8/25: 100%|██████████| 544/544 [00:10<00:00, 51.65batch/s, DiceCoef=0.74, loss=0.17]\n"
          ]
        },
        {
          "name": "stdout",
          "output_type": "stream",
          "text": [
            "Epoch [8/25], Total Train Loss: 50.079499173909426\n",
            "Epoch [8/25], Dice Score for Training : 0.7357337522623519\n"
          ]
        },
        {
          "name": "stderr",
          "output_type": "stream",
          "text": [
            "Validation: 100%|██████████| 61/61 [00:00<00:00, 73.35batch/s, DiceCoef=0, loss=0.0376]\n"
          ]
        },
        {
          "name": "stdout",
          "output_type": "stream",
          "text": [
            "Validation Loss: 0.09237725632723237\n",
            "Validation Dice Score Coef: 0.6774111673523173\n"
          ]
        },
        {
          "name": "stderr",
          "output_type": "stream",
          "text": [
            "Epoch 9/25: 100%|██████████| 544/544 [00:10<00:00, 52.50batch/s, DiceCoef=0.649, loss=0.0946]\n"
          ]
        },
        {
          "name": "stdout",
          "output_type": "stream",
          "text": [
            "Epoch [9/25], Total Train Loss: 49.47834546491504\n",
            "Epoch [9/25], Dice Score for Training : 0.7375188386783444\n"
          ]
        },
        {
          "name": "stderr",
          "output_type": "stream",
          "text": [
            "Validation: 100%|██████████| 61/61 [00:00<00:00, 76.51batch/s, DiceCoef=0, loss=0.0339]\n"
          ]
        },
        {
          "name": "stdout",
          "output_type": "stream",
          "text": [
            "Validation Loss: 0.09045032888162331\n",
            "Validation Dice Score Coef: 0.6883271468202911\n"
          ]
        },
        {
          "name": "stderr",
          "output_type": "stream",
          "text": [
            "Epoch 10/25: 100%|██████████| 544/544 [00:10<00:00, 53.65batch/s, DiceCoef=0.789, loss=0.0878]\n"
          ]
        },
        {
          "name": "stdout",
          "output_type": "stream",
          "text": [
            "Epoch [10/25], Total Train Loss: 47.69451656192541\n",
            "Epoch [10/25], Dice Score for Training : 0.7475176455478589\n"
          ]
        },
        {
          "name": "stderr",
          "output_type": "stream",
          "text": [
            "Validation: 100%|██████████| 61/61 [00:01<00:00, 54.15batch/s, DiceCoef=0, loss=0.0261]\n"
          ]
        },
        {
          "name": "stdout",
          "output_type": "stream",
          "text": [
            "Validation Loss: 0.08654891049153492\n",
            "Validation Dice Score Coef: 0.6978777495294578\n"
          ]
        },
        {
          "name": "stderr",
          "output_type": "stream",
          "text": [
            "Epoch 11/25: 100%|██████████| 544/544 [00:09<00:00, 55.21batch/s, DiceCoef=0.826, loss=0.0636]\n"
          ]
        },
        {
          "name": "stdout",
          "output_type": "stream",
          "text": [
            "Epoch [11/25], Total Train Loss: 46.53751788660884\n",
            "Epoch [11/25], Dice Score for Training : 0.7532303100882904\n"
          ]
        },
        {
          "name": "stderr",
          "output_type": "stream",
          "text": [
            "Validation: 100%|██████████| 61/61 [00:00<00:00, 66.06batch/s, DiceCoef=0, loss=0.0287]\n"
          ]
        },
        {
          "name": "stdout",
          "output_type": "stream",
          "text": [
            "Validation Loss: 0.08415602553696906\n",
            "Validation Dice Score Coef: 0.6994251894306094\n"
          ]
        },
        {
          "name": "stderr",
          "output_type": "stream",
          "text": [
            "Epoch 12/25: 100%|██████████| 544/544 [00:10<00:00, 52.29batch/s, DiceCoef=0.769, loss=0.0763]\n"
          ]
        },
        {
          "name": "stdout",
          "output_type": "stream",
          "text": [
            "Epoch [12/25], Total Train Loss: 45.57713785395026\n",
            "Epoch [12/25], Dice Score for Training : 0.7584380707644434\n"
          ]
        },
        {
          "name": "stderr",
          "output_type": "stream",
          "text": [
            "Validation: 100%|██████████| 61/61 [00:00<00:00, 74.84batch/s, DiceCoef=0, loss=0.0364]\n"
          ]
        },
        {
          "name": "stdout",
          "output_type": "stream",
          "text": [
            "Validation Loss: 0.084620685912058\n",
            "Validation Dice Score Coef: 0.710177130534098\n"
          ]
        },
        {
          "name": "stderr",
          "output_type": "stream",
          "text": [
            "Epoch 13/25: 100%|██████████| 544/544 [00:10<00:00, 51.72batch/s, DiceCoef=0.823, loss=0.0751]\n"
          ]
        },
        {
          "name": "stdout",
          "output_type": "stream",
          "text": [
            "Epoch [13/25], Total Train Loss: 45.085740361362696\n",
            "Epoch [13/25], Dice Score for Training : 0.7625246884107965\n"
          ]
        },
        {
          "name": "stderr",
          "output_type": "stream",
          "text": [
            "Validation: 100%|██████████| 61/61 [00:00<00:00, 75.32batch/s, DiceCoef=0, loss=0.025]\n"
          ]
        },
        {
          "name": "stdout",
          "output_type": "stream",
          "text": [
            "Validation Loss: 0.08337613482211458\n",
            "Validation Dice Score Coef: 0.7118442027892807\n"
          ]
        },
        {
          "name": "stderr",
          "output_type": "stream",
          "text": [
            "Epoch 14/25: 100%|██████████| 544/544 [00:10<00:00, 50.40batch/s, DiceCoef=0.852, loss=0.0632]\n"
          ]
        },
        {
          "name": "stdout",
          "output_type": "stream",
          "text": [
            "Epoch [14/25], Total Train Loss: 44.13780810683966\n",
            "Epoch [14/25], Dice Score for Training : 0.7643009428052381\n"
          ]
        },
        {
          "name": "stderr",
          "output_type": "stream",
          "text": [
            "Validation: 100%|██████████| 61/61 [00:00<00:00, 73.72batch/s, DiceCoef=0, loss=0.0544]\n"
          ]
        },
        {
          "name": "stdout",
          "output_type": "stream",
          "text": [
            "Validation Loss: 0.086207492979335\n",
            "Validation Dice Score Coef: 0.7135913079772526\n"
          ]
        },
        {
          "name": "stderr",
          "output_type": "stream",
          "text": [
            "Epoch 15/25: 100%|██████████| 544/544 [00:10<00:00, 50.37batch/s, DiceCoef=0.845, loss=0.0537]\n"
          ]
        },
        {
          "name": "stdout",
          "output_type": "stream",
          "text": [
            "Epoch [15/25], Total Train Loss: 43.522134594619274\n",
            "Epoch [15/25], Dice Score for Training : 0.7686589572494684\n"
          ]
        },
        {
          "name": "stderr",
          "output_type": "stream",
          "text": [
            "Validation: 100%|██████████| 61/61 [00:00<00:00, 72.12batch/s, DiceCoef=0, loss=0.0557]\n"
          ]
        },
        {
          "name": "stdout",
          "output_type": "stream",
          "text": [
            "Validation Loss: 0.08553522208430728\n",
            "Validation Dice Score Coef: 0.7267248746033315\n"
          ]
        },
        {
          "name": "stderr",
          "output_type": "stream",
          "text": [
            "Epoch 16/25: 100%|██████████| 544/544 [00:10<00:00, 53.98batch/s, DiceCoef=0.805, loss=0.0734]\n"
          ]
        },
        {
          "name": "stdout",
          "output_type": "stream",
          "text": [
            "Epoch [16/25], Total Train Loss: 42.984371427446604\n",
            "Epoch [16/25], Dice Score for Training : 0.7711704069233043\n"
          ]
        },
        {
          "name": "stderr",
          "output_type": "stream",
          "text": [
            "Validation: 100%|██████████| 61/61 [00:01<00:00, 57.50batch/s, DiceCoef=0, loss=0.0201]\n"
          ]
        },
        {
          "name": "stdout",
          "output_type": "stream",
          "text": [
            "Validation Loss: 0.07948184352307046\n",
            "Validation Dice Score Coef: 0.7141161938101774\n"
          ]
        },
        {
          "name": "stderr",
          "output_type": "stream",
          "text": [
            "Epoch 17/25: 100%|██████████| 544/544 [00:09<00:00, 55.53batch/s, DiceCoef=0.878, loss=0.0503]\n"
          ]
        },
        {
          "name": "stdout",
          "output_type": "stream",
          "text": [
            "Epoch [17/25], Total Train Loss: 42.227714985609055\n",
            "Epoch [17/25], Dice Score for Training : 0.7742457855431194\n"
          ]
        },
        {
          "name": "stderr",
          "output_type": "stream",
          "text": [
            "Validation: 100%|██████████| 61/61 [00:00<00:00, 68.15batch/s, DiceCoef=0, loss=0.0228]\n"
          ]
        },
        {
          "name": "stdout",
          "output_type": "stream",
          "text": [
            "Validation Loss: 0.07938429594162058\n",
            "Validation Dice Score Coef: 0.7215743006876935\n"
          ]
        },
        {
          "name": "stderr",
          "output_type": "stream",
          "text": [
            "Epoch 18/25: 100%|██████████| 544/544 [00:10<00:00, 51.95batch/s, DiceCoef=0.758, loss=0.0989]\n"
          ]
        },
        {
          "name": "stdout",
          "output_type": "stream",
          "text": [
            "Epoch [18/25], Total Train Loss: 41.65380726382136\n",
            "Epoch [18/25], Dice Score for Training : 0.7764748475682114\n"
          ]
        },
        {
          "name": "stderr",
          "output_type": "stream",
          "text": [
            "Validation: 100%|██████████| 61/61 [00:00<00:00, 73.25batch/s, DiceCoef=0, loss=0.0243]\n"
          ]
        },
        {
          "name": "stdout",
          "output_type": "stream",
          "text": [
            "Validation Loss: 0.07793359256914405\n",
            "Validation Dice Score Coef: 0.7216429524549447\n"
          ]
        },
        {
          "name": "stderr",
          "output_type": "stream",
          "text": [
            "Epoch 19/25: 100%|██████████| 544/544 [00:10<00:00, 51.68batch/s, DiceCoef=0.788, loss=0.0599]\n"
          ]
        },
        {
          "name": "stdout",
          "output_type": "stream",
          "text": [
            "Epoch [19/25], Total Train Loss: 41.91648418083787\n",
            "Epoch [19/25], Dice Score for Training : 0.7782068559266904\n"
          ]
        },
        {
          "name": "stderr",
          "output_type": "stream",
          "text": [
            "Validation: 100%|██████████| 61/61 [00:00<00:00, 72.02batch/s, DiceCoef=0, loss=0.0229]\n"
          ]
        },
        {
          "name": "stdout",
          "output_type": "stream",
          "text": [
            "Validation Loss: 0.07701856670443152\n",
            "Validation Dice Score Coef: 0.7239282373558237\n"
          ]
        },
        {
          "name": "stderr",
          "output_type": "stream",
          "text": [
            "Epoch 20/25: 100%|██████████| 544/544 [00:10<00:00, 50.55batch/s, DiceCoef=0.767, loss=0.106]\n"
          ]
        },
        {
          "name": "stdout",
          "output_type": "stream",
          "text": [
            "Epoch [20/25], Total Train Loss: 41.11279437318444\n",
            "Epoch [20/25], Dice Score for Training : 0.7808019286760262\n"
          ]
        },
        {
          "name": "stderr",
          "output_type": "stream",
          "text": [
            "Validation: 100%|██████████| 61/61 [00:00<00:00, 75.48batch/s, DiceCoef=0, loss=0.0158]\n"
          ]
        },
        {
          "name": "stdout",
          "output_type": "stream",
          "text": [
            "Validation Loss: 0.08089220380318947\n",
            "Validation Dice Score Coef: 0.7111346990227859\n"
          ]
        },
        {
          "name": "stderr",
          "output_type": "stream",
          "text": [
            "Epoch 21/25: 100%|██████████| 544/544 [00:11<00:00, 48.27batch/s, DiceCoef=0.734, loss=0.11]\n"
          ]
        },
        {
          "name": "stdout",
          "output_type": "stream",
          "text": [
            "Epoch [21/25], Total Train Loss: 40.62974090874195\n",
            "Epoch [21/25], Dice Score for Training : 0.7836723060476483\n"
          ]
        },
        {
          "name": "stderr",
          "output_type": "stream",
          "text": [
            "Validation: 100%|██████████| 61/61 [00:00<00:00, 74.73batch/s, DiceCoef=0, loss=0.0177]\n"
          ]
        },
        {
          "name": "stdout",
          "output_type": "stream",
          "text": [
            "Validation Loss: 0.07718089778648048\n",
            "Validation Dice Score Coef: 0.7224029109363278\n"
          ]
        },
        {
          "name": "stderr",
          "output_type": "stream",
          "text": [
            "Epoch 22/25: 100%|██████████| 544/544 [00:10<00:00, 53.31batch/s, DiceCoef=0.823, loss=0.0714]\n"
          ]
        },
        {
          "name": "stdout",
          "output_type": "stream",
          "text": [
            "Epoch [22/25], Total Train Loss: 40.03627011924982\n",
            "Epoch [22/25], Dice Score for Training : 0.7851394301187511\n"
          ]
        },
        {
          "name": "stderr",
          "output_type": "stream",
          "text": [
            "Validation: 100%|██████████| 61/61 [00:01<00:00, 55.07batch/s, DiceCoef=0, loss=0.0255]\n"
          ]
        },
        {
          "name": "stdout",
          "output_type": "stream",
          "text": [
            "Validation Loss: 0.07577304688633466\n",
            "Validation Dice Score Coef: 0.7345487449095289\n"
          ]
        },
        {
          "name": "stderr",
          "output_type": "stream",
          "text": [
            "Epoch 23/25: 100%|██████████| 544/544 [00:09<00:00, 55.58batch/s, DiceCoef=0.767, loss=0.08]\n"
          ]
        },
        {
          "name": "stdout",
          "output_type": "stream",
          "text": [
            "Epoch [23/25], Total Train Loss: 39.865074219182134\n",
            "Epoch [23/25], Dice Score for Training : 0.7867435839159023\n"
          ]
        },
        {
          "name": "stderr",
          "output_type": "stream",
          "text": [
            "Validation: 100%|██████████| 61/61 [00:01<00:00, 60.44batch/s, DiceCoef=0, loss=0.0466]\n"
          ]
        },
        {
          "name": "stdout",
          "output_type": "stream",
          "text": [
            "Validation Loss: 0.08013811112060899\n",
            "Validation Dice Score Coef: 0.7102465027577701\n"
          ]
        },
        {
          "name": "stderr",
          "output_type": "stream",
          "text": [
            "Epoch 24/25: 100%|██████████| 544/544 [00:10<00:00, 52.85batch/s, DiceCoef=0.816, loss=0.0729]\n"
          ]
        },
        {
          "name": "stdout",
          "output_type": "stream",
          "text": [
            "Epoch [24/25], Total Train Loss: 40.32127543911338\n",
            "Epoch [24/25], Dice Score for Training : 0.7909084328831009\n"
          ]
        },
        {
          "name": "stderr",
          "output_type": "stream",
          "text": [
            "Validation: 100%|██████████| 61/61 [00:00<00:00, 74.01batch/s, DiceCoef=0, loss=0.0513]\n"
          ]
        },
        {
          "name": "stdout",
          "output_type": "stream",
          "text": [
            "Validation Loss: 0.07979067698976056\n",
            "Validation Dice Score Coef: 0.7298543342048023\n"
          ]
        },
        {
          "name": "stderr",
          "output_type": "stream",
          "text": [
            "Epoch 25/25: 100%|██████████| 544/544 [00:10<00:00, 51.74batch/s, DiceCoef=0.88, loss=0.0541]\n"
          ]
        },
        {
          "name": "stdout",
          "output_type": "stream",
          "text": [
            "Epoch [25/25], Total Train Loss: 39.57417961023748\n",
            "Epoch [25/25], Dice Score for Training : 0.7915725470382418\n"
          ]
        },
        {
          "name": "stderr",
          "output_type": "stream",
          "text": [
            "Validation: 100%|██████████| 61/61 [00:00<00:00, 75.41batch/s, DiceCoef=0, loss=0.0457]"
          ]
        },
        {
          "name": "stdout",
          "output_type": "stream",
          "text": [
            "Validation Loss: 0.07807571184439738\n",
            "Validation Dice Score Coef: 0.7373277635965565\n"
          ]
        },
        {
          "name": "stderr",
          "output_type": "stream",
          "text": [
            "\n"
          ]
        }
      ],
      "source": [
        "#Model\n",
        "model = UNet()\n",
        "model.to(device)\n",
        "#Hyper Parameters\n",
        "lr = 0.001\n",
        "weight_decay = 1e-5\n",
        "betas = (0.9, 0.999)\n",
        "optimizer = Adam(model.parameters(), lr=lr)\n",
        "#criterion = FocalLoss() #FocalLoss + BCE\n",
        "#criterion =BinaryDiceLoss() #DiceLoss + BCE\n",
        "criterion = nn.BCELoss() #Binary Score Entropy\n",
        "num_epochs = 25\n",
        "train_loss=[]\n",
        "train_dice_score=[]\n",
        "validation_loss=[]\n",
        "validation_dice_score=[]\n",
        "for e in range(num_epochs):\n",
        "    model.train()\n",
        "    total_train_loss = 0\n",
        "    total_dice_coef = 0\n",
        "    sample = 0\n",
        "    nb_batch = 0\n",
        "    with tqdm(train_loader, desc=f'Epoch {e+1}/{num_epochs}', unit='batch') as tqdm_loader:\n",
        "        for images, masks,_,_ in tqdm_loader:\n",
        "            optimizer.zero_grad()\n",
        "            images = images.to(device)\n",
        "            masks = masks.to(device)\n",
        "            masks = masks.float()\n",
        "            images = images.unsqueeze(1)\n",
        "            masks = masks.unsqueeze(1)\n",
        "            pred = model(images)\n",
        "            loss = criterion(pred, masks).mean().float()\n",
        "            y_pred = pred.data.cpu().numpy().ravel()\n",
        "            y_true = masks.data.cpu().numpy().ravel()\n",
        "            dice_coef = dice_coeff(y_pred, y_true)\n",
        "            loss.backward()\n",
        "            optimizer.step()\n",
        "            total_train_loss += loss.item()\n",
        "            total_dice_coef += dice_coef.item()\n",
        "            sample += len(images)\n",
        "            nb_batch += 1\n",
        "            tqdm_loader.set_postfix(loss=loss.item(), DiceCoef=dice_coef.item())\n",
        "\n",
        "        overall_loss=total_train_loss/nb_batch\n",
        "        overall_score = total_dice_coef / nb_batch\n",
        "        train_loss.append(overall_loss)\n",
        "        train_dice_score.append(overall_score)\n",
        "    print(f\"Epoch [{e+1}/{num_epochs}], Total Train Loss: {total_train_loss}\")\n",
        "    print(f\"Epoch [{e+1}/{num_epochs}], Dice Score for Training : {overall_score}\")\n",
        "    # Validation\n",
        "    val_loss,val_dice_coef=validation(model, val_loader, criterion, device)\n",
        "    validation_loss.append(val_loss)\n",
        "    validation_dice_score.append(val_dice_coef)\n",
        "    # Save the model\n",
        "    save_dir = \"/content\"\n",
        "    model_path = os.path.join(save_dir, f\"model_epoch_{e+1}.pt\")\n",
        "    torch.save(model.state_dict(), model_path)"
      ]
    },
    {
      "cell_type": "markdown",
      "metadata": {
        "id": "BoKWDZHi9czf"
      },
      "source": [
        "Visualizing the results:"
      ]
    },
    {
      "cell_type": "code",
      "execution_count": 287,
      "metadata": {
        "colab": {
          "base_uri": "https://localhost:8080/",
          "height": 957
        },
        "id": "twuod6Ni_w4b",
        "outputId": "f62c9608-a6d9-49c1-ea23-3013a1843485"
      },
      "outputs": [
        {
          "data": {
            "image/png": "[encoded data removed]",
            "text/plain": [
              "<Figure size 1000x500 with 1 Axes>"
            ]
          },
          "metadata": {},
          "output_type": "display_data"
        },
        {
          "data": {
            "image/png": "[encoded data removed]",
            "text/plain": [
              "<Figure size 1000x500 with 1 Axes>"
            ]
          },
          "metadata": {},
          "output_type": "display_data"
        }
      ],
      "source": [
        "# Plot training and validation loss\n",
        "plt.figure(figsize=(10, 5))\n",
        "plt.plot(range(1, len(train_loss) + 1), train_loss, label='Training Loss', color='blue')\n",
        "plt.plot(range(1, len(validation_loss) + 1), validation_loss, label='Validation Loss', color='orange')\n",
        "plt.xlabel('Epoch')\n",
        "plt.ylabel('Loss')\n",
        "plt.title('Training and Validation Loss')\n",
        "plt.legend()\n",
        "plt.grid(True)\n",
        "plt.show()\n",
        "\n",
        "# Plot training and validation dice score\n",
        "plt.figure(figsize=(10, 5))\n",
        "plt.plot(range(1, len(train_dice_score) + 1), train_dice_score, label='Training Dice Score', color='blue')\n",
        "plt.plot(range(1, len(validation_dice_score) + 1), validation_dice_score, label='Validation Dice Score', color='orange')\n",
        "plt.xlabel('Epoch')\n",
        "plt.ylabel('Dice Score')\n",
        "plt.title('Training and Validation Dice Score')\n",
        "plt.legend()\n",
        "plt.grid(True)\n",
        "plt.show()"
      ]
    },
    {
      "cell_type": "markdown",
      "metadata": {
        "id": "jCe-Fvl4JOyn"
      },
      "source": [
        "# Generate the mask of the test images and saving them in .csv file"
      ]
    },
    {
      "cell_type": "code",
      "execution_count": null,
      "metadata": {
        "id": "me1czOc9KRXy"
      },
      "outputs": [],
      "source": [
        "pred_csv = 'pred_focal_81.csv'\n",
        "img_save_dir = Path('/content/Test/images')\n",
        "threshold = 0.5\n",
        "results = []\n",
        "length = np.arange(1, 36*36+1)\n",
        "results.append([''] + length.tolist())\n",
        "\n",
        "# Looping over image files\n",
        "for img_path in tqdm(sorted(img_save_dir.glob('*.npy'))):\n",
        "    patch_name = img_path.stem\n",
        "    image = np.load(img_path)\n",
        "    image = torch.from_numpy(image).float()\n",
        "    image = image.to(device)\n",
        "    image = image.unsqueeze(0).unsqueeze(0)\n",
        "    pred = model(image)\n",
        "    mask = (pred > threshold).float()\n",
        "    mask = mask.view(-1)\n",
        "    results.append([patch_name] + mask.cpu().numpy().tolist())  # Appending patch name and mask values as a list\n"
      ]
    },
    {
      "cell_type": "code",
      "execution_count": null,
      "metadata": {
        "id": "NLhUlkK5O6go"
      },
      "outputs": [],
      "source": [
        "# Saving results to CSV\n",
        "df = pd.DataFrame(results[1:], columns=results[0])\n",
        "df.to_csv(pred_csv, index=False)"
      ]
    }
  ],
  "metadata": {
    "accelerator": "GPU",
    "colab": {
      "gpuType": "T4",
      "provenance": []
    },
    "kaggle": {
      "accelerator": "gpu",
      "dataSources": [
        {
          "datasetId": 4451693,
          "sourceId": 7638652,
          "sourceType": "datasetVersion"
        }
      ],
      "dockerImageVersionId": 30646,
      "isGpuEnabled": true,
      "isInternetEnabled": true,
      "language": "python",
      "sourceType": "notebook"
    },
    "kernelspec": {
      "display_name": "Python 3",
      "name": "python3"
    },
    "language_info": {
      "codemirror_mode": {
        "name": "ipython",
        "version": 3
      },
      "file_extension": ".py",
      "mimetype": "text/x-python",
      "name": "python",
      "nbconvert_exporter": "python",
      "pygments_lexer": "ipython3",
      "version": "3.10.13"
    }
  },
  "nbformat": 4,
  "nbformat_minor": 0
}
